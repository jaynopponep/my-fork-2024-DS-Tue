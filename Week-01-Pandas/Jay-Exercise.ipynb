{
 "cells": [
  {
   "cell_type": "markdown",
   "metadata": {},
   "source": [
    "# First print your name in the cell below then save this file. (or something nice about your instructor)"
   ]
  },
  {
   "cell_type": "code",
   "execution_count": 1,
   "metadata": {
    "ExecuteTime": {
     "end_time": "2024-08-28T20:01:15.398262500Z",
     "start_time": "2024-08-28T20:01:15.390260500Z"
    }
   },
   "outputs": [
    {
     "name": "stdout",
     "output_type": "stream",
     "text": [
      "My TA is the goat\n"
     ]
    }
   ],
   "source": [
    "# In this cell print your name \n",
    "print(\"My TA is the goat\")\n"
   ]
  },
  {
   "cell_type": "markdown",
   "metadata": {},
   "source": [
    "# Data wrangling with Pandas exercise\n",
    "* For this exercise we will be using the `listings.csv` data file."
   ]
  },
  {
   "cell_type": "code",
   "execution_count": 2,
   "metadata": {
    "ExecuteTime": {
     "end_time": "2024-08-28T20:01:16.161871300Z",
     "start_time": "2024-08-28T20:01:15.398262500Z"
    }
   },
   "outputs": [],
   "source": [
    "import pandas as pd\n",
    "import numpy as np"
   ]
  },
  {
   "cell_type": "markdown",
   "metadata": {},
   "source": [
    "# Load in the data file using `pd.read_csv()`"
   ]
  },
  {
   "cell_type": "code",
   "execution_count": 3,
   "metadata": {
    "ExecuteTime": {
     "end_time": "2024-08-28T20:01:16.297096400Z",
     "start_time": "2024-08-28T20:01:16.163872900Z"
    }
   },
   "outputs": [],
   "source": [
    "# Load data here\n",
    "df = pd.read_csv('data/listings.csv')"
   ]
  },
  {
   "cell_type": "markdown",
   "metadata": {},
   "source": [
    "## Exercise 2 - Filtering\n",
    "\n",
    "Return the following subsets of the dataframe.\n",
    "\n",
    "1. How many listings are there with a price less than 100? \n",
    "\n",
    "\n",
    "2. Find how many listings there are in just Brooklyn.\n",
    "\n",
    "\n",
    "3. Find how many listings there are in Brooklyn with a price less than 100.\n",
    "\n",
    "\n",
    "4. Using `.isin()` select anyone that has the host name of Michael, David, John, and Daniel.\n",
    "\n",
    "\n",
    "5. Create a new column called `adjusted_price` that has $100 added to every listing in Williamsburg.  The prices for all other listings should be the same as the were before. \n",
    "\n",
    "\n",
    "6. What % of the rooms are private, and what % of the rooms are shared.  \n",
    "    * Hint, use `.value_counts()`\n"
   ]
  },
  {
   "cell_type": "code",
   "execution_count": 14,
   "metadata": {
    "ExecuteTime": {
     "end_time": "2024-08-28T20:05:23.934739700Z",
     "start_time": "2024-08-28T20:05:23.922967100Z"
    }
   },
   "outputs": [
    {
     "data": {
      "text/plain": "22778"
     },
     "execution_count": 14,
     "metadata": {},
     "output_type": "execute_result"
    }
   ],
   "source": [
    "# 1. How many listings are there with a price less than 100? \n",
    "c1 = df['price'] < 100\n",
    "len(df[c1])"
   ]
  },
  {
   "cell_type": "code",
   "execution_count": 8,
   "metadata": {
    "ExecuteTime": {
     "end_time": "2024-08-28T18:54:55.249671400Z",
     "start_time": "2024-08-28T18:54:55.192658800Z"
    }
   },
   "outputs": [
    {
     "data": {
      "text/plain": "18632"
     },
     "execution_count": 8,
     "metadata": {},
     "output_type": "execute_result"
    }
   ],
   "source": [
    "# 2. Make a new DataFrame of listings in Brooklyn named `df_bk` \n",
    "# and find how many listings in just Brooklyn.\n",
    "df.head()\n",
    "b1 = df['neighbourhood_group'] == 'Brooklyn'\n",
    "df_bk = df[b1]\n",
    "len(df_bk)"
   ]
  },
  {
   "cell_type": "code",
   "execution_count": 9,
   "metadata": {
    "ExecuteTime": {
     "end_time": "2024-08-28T18:54:55.250672500Z",
     "start_time": "2024-08-28T18:54:55.207661800Z"
    }
   },
   "outputs": [
    {
     "data": {
      "text/plain": "10473"
     },
     "execution_count": 9,
     "metadata": {},
     "output_type": "execute_result"
    }
   ],
   "source": [
    "# 3. Find how many listings there are in Brooklyn with a price less than 100.\n",
    "both = df[b1 & c1]\n",
    "len(both)"
   ]
  },
  {
   "cell_type": "code",
   "outputs": [
    {
     "data": {
      "text/plain": "             id                                               name    host_id  \\\n1          3831  Whole flr w/private bdrm, bath & kitchen(pls r...       4869   \n2          5121                                    BlissArtsSpace!       7356   \n8          5803     Lovely Room 1, Garden, Best Area, Legal rental       9744   \n21        10452                              Large B&B Style rooms      35935   \n22        10962            Lovely Room 2; Garden; Best area, Legal       9744   \n...         ...                                                ...        ...   \n46510  44798876  Unique & beautiful design! Skylights-Washer/dryer  143513836   \n46517  44802032                  A very large room in Williamsburg  213793805   \n46518  44802224  Unique & beautiful design! Skylights-Washer/dryer  143513836   \n46524  44811717  Comfortable safe environment 24hr security camera  362453686   \n46526  44818009  5MIN D/N trains, NEAR THE BEACH, 50’ TO MANHATTAN   48098268   \n\n         host_name neighbourhood_group       neighbourhood  latitude  \\\n1      LisaRoxanne            Brooklyn        Clinton Hill  40.68514   \n2            Garon            Brooklyn  Bedford-Stuyvesant  40.68688   \n8           Laurie            Brooklyn         South Slope  40.66829   \n21          Angela            Brooklyn  Bedford-Stuyvesant  40.68310   \n22          Laurie            Brooklyn         South Slope  40.66869   \n...            ...                 ...                 ...       ...   \n46510    Elisabeth            Brooklyn       Crown Heights  40.67156   \n46517         Omer            Brooklyn        Williamsburg  40.71970   \n46518    Elisabeth            Brooklyn       Crown Heights  40.67302   \n46524       Nicole            Brooklyn       East Flatbush  40.65399   \n46526       Marina            Brooklyn           Gravesend  40.59945   \n\n       longitude        room_type  price  minimum_nights  number_of_reviews  \\\n1      -73.95976  Entire home/apt     75               1                340   \n2      -73.95596     Private room     60              29                 50   \n8      -73.98779     Private room     88               4                180   \n21     -73.95473     Private room     70               3                 75   \n22     -73.98780     Private room     88               4                180   \n...          ...              ...    ...             ...                ...   \n46510  -73.91651     Private room     61              30                  0   \n46517  -73.95632     Private room     55              14                  0   \n46518  -73.91695     Private room     61              30                  0   \n46524  -73.93287     Private room     59               3                  0   \n46526  -73.98209     Private room     66               1                  0   \n\n      last_review  reviews_per_month  calculated_host_listings_count  \\\n1      2020-08-01               4.75                               1   \n2      2019-12-02               0.37                               1   \n8      2020-03-18               1.31                               3   \n21     2019-10-12               0.60                               2   \n22     2020-08-03               1.36                               3   \n...           ...                ...                             ...   \n46510         NaN                NaN                               5   \n46517         NaN                NaN                               1   \n46518         NaN                NaN                               5   \n46524         NaN                NaN                               1   \n46526         NaN                NaN                               1   \n\n       availability_365  \n1                   265  \n2                   365  \n8                   344  \n21                  365  \n22                  365  \n...                 ...  \n46510               329  \n46517                45  \n46518               363  \n46524                90  \n46526                38  \n\n[10473 rows x 16 columns]",
      "text/html": "<div>\n<style scoped>\n    .dataframe tbody tr th:only-of-type {\n        vertical-align: middle;\n    }\n\n    .dataframe tbody tr th {\n        vertical-align: top;\n    }\n\n    .dataframe thead th {\n        text-align: right;\n    }\n</style>\n<table border=\"1\" class=\"dataframe\">\n  <thead>\n    <tr style=\"text-align: right;\">\n      <th></th>\n      <th>id</th>\n      <th>name</th>\n      <th>host_id</th>\n      <th>host_name</th>\n      <th>neighbourhood_group</th>\n      <th>neighbourhood</th>\n      <th>latitude</th>\n      <th>longitude</th>\n      <th>room_type</th>\n      <th>price</th>\n      <th>minimum_nights</th>\n      <th>number_of_reviews</th>\n      <th>last_review</th>\n      <th>reviews_per_month</th>\n      <th>calculated_host_listings_count</th>\n      <th>availability_365</th>\n    </tr>\n  </thead>\n  <tbody>\n    <tr>\n      <th>1</th>\n      <td>3831</td>\n      <td>Whole flr w/private bdrm, bath &amp; kitchen(pls r...</td>\n      <td>4869</td>\n      <td>LisaRoxanne</td>\n      <td>Brooklyn</td>\n      <td>Clinton Hill</td>\n      <td>40.68514</td>\n      <td>-73.95976</td>\n      <td>Entire home/apt</td>\n      <td>75</td>\n      <td>1</td>\n      <td>340</td>\n      <td>2020-08-01</td>\n      <td>4.75</td>\n      <td>1</td>\n      <td>265</td>\n    </tr>\n    <tr>\n      <th>2</th>\n      <td>5121</td>\n      <td>BlissArtsSpace!</td>\n      <td>7356</td>\n      <td>Garon</td>\n      <td>Brooklyn</td>\n      <td>Bedford-Stuyvesant</td>\n      <td>40.68688</td>\n      <td>-73.95596</td>\n      <td>Private room</td>\n      <td>60</td>\n      <td>29</td>\n      <td>50</td>\n      <td>2019-12-02</td>\n      <td>0.37</td>\n      <td>1</td>\n      <td>365</td>\n    </tr>\n    <tr>\n      <th>8</th>\n      <td>5803</td>\n      <td>Lovely Room 1, Garden, Best Area, Legal rental</td>\n      <td>9744</td>\n      <td>Laurie</td>\n      <td>Brooklyn</td>\n      <td>South Slope</td>\n      <td>40.66829</td>\n      <td>-73.98779</td>\n      <td>Private room</td>\n      <td>88</td>\n      <td>4</td>\n      <td>180</td>\n      <td>2020-03-18</td>\n      <td>1.31</td>\n      <td>3</td>\n      <td>344</td>\n    </tr>\n    <tr>\n      <th>21</th>\n      <td>10452</td>\n      <td>Large B&amp;B Style rooms</td>\n      <td>35935</td>\n      <td>Angela</td>\n      <td>Brooklyn</td>\n      <td>Bedford-Stuyvesant</td>\n      <td>40.68310</td>\n      <td>-73.95473</td>\n      <td>Private room</td>\n      <td>70</td>\n      <td>3</td>\n      <td>75</td>\n      <td>2019-10-12</td>\n      <td>0.60</td>\n      <td>2</td>\n      <td>365</td>\n    </tr>\n    <tr>\n      <th>22</th>\n      <td>10962</td>\n      <td>Lovely Room 2; Garden; Best area, Legal</td>\n      <td>9744</td>\n      <td>Laurie</td>\n      <td>Brooklyn</td>\n      <td>South Slope</td>\n      <td>40.66869</td>\n      <td>-73.98780</td>\n      <td>Private room</td>\n      <td>88</td>\n      <td>4</td>\n      <td>180</td>\n      <td>2020-08-03</td>\n      <td>1.36</td>\n      <td>3</td>\n      <td>365</td>\n    </tr>\n    <tr>\n      <th>...</th>\n      <td>...</td>\n      <td>...</td>\n      <td>...</td>\n      <td>...</td>\n      <td>...</td>\n      <td>...</td>\n      <td>...</td>\n      <td>...</td>\n      <td>...</td>\n      <td>...</td>\n      <td>...</td>\n      <td>...</td>\n      <td>...</td>\n      <td>...</td>\n      <td>...</td>\n      <td>...</td>\n    </tr>\n    <tr>\n      <th>46510</th>\n      <td>44798876</td>\n      <td>Unique &amp; beautiful design! Skylights-Washer/dryer</td>\n      <td>143513836</td>\n      <td>Elisabeth</td>\n      <td>Brooklyn</td>\n      <td>Crown Heights</td>\n      <td>40.67156</td>\n      <td>-73.91651</td>\n      <td>Private room</td>\n      <td>61</td>\n      <td>30</td>\n      <td>0</td>\n      <td>NaN</td>\n      <td>NaN</td>\n      <td>5</td>\n      <td>329</td>\n    </tr>\n    <tr>\n      <th>46517</th>\n      <td>44802032</td>\n      <td>A very large room in Williamsburg</td>\n      <td>213793805</td>\n      <td>Omer</td>\n      <td>Brooklyn</td>\n      <td>Williamsburg</td>\n      <td>40.71970</td>\n      <td>-73.95632</td>\n      <td>Private room</td>\n      <td>55</td>\n      <td>14</td>\n      <td>0</td>\n      <td>NaN</td>\n      <td>NaN</td>\n      <td>1</td>\n      <td>45</td>\n    </tr>\n    <tr>\n      <th>46518</th>\n      <td>44802224</td>\n      <td>Unique &amp; beautiful design! Skylights-Washer/dryer</td>\n      <td>143513836</td>\n      <td>Elisabeth</td>\n      <td>Brooklyn</td>\n      <td>Crown Heights</td>\n      <td>40.67302</td>\n      <td>-73.91695</td>\n      <td>Private room</td>\n      <td>61</td>\n      <td>30</td>\n      <td>0</td>\n      <td>NaN</td>\n      <td>NaN</td>\n      <td>5</td>\n      <td>363</td>\n    </tr>\n    <tr>\n      <th>46524</th>\n      <td>44811717</td>\n      <td>Comfortable safe environment 24hr security camera</td>\n      <td>362453686</td>\n      <td>Nicole</td>\n      <td>Brooklyn</td>\n      <td>East Flatbush</td>\n      <td>40.65399</td>\n      <td>-73.93287</td>\n      <td>Private room</td>\n      <td>59</td>\n      <td>3</td>\n      <td>0</td>\n      <td>NaN</td>\n      <td>NaN</td>\n      <td>1</td>\n      <td>90</td>\n    </tr>\n    <tr>\n      <th>46526</th>\n      <td>44818009</td>\n      <td>5MIN D/N trains, NEAR THE BEACH, 50’ TO MANHATTAN</td>\n      <td>48098268</td>\n      <td>Marina</td>\n      <td>Brooklyn</td>\n      <td>Gravesend</td>\n      <td>40.59945</td>\n      <td>-73.98209</td>\n      <td>Private room</td>\n      <td>66</td>\n      <td>1</td>\n      <td>0</td>\n      <td>NaN</td>\n      <td>NaN</td>\n      <td>1</td>\n      <td>38</td>\n    </tr>\n  </tbody>\n</table>\n<p>10473 rows × 16 columns</p>\n</div>"
     },
     "execution_count": 10,
     "metadata": {},
     "output_type": "execute_result"
    }
   ],
   "source": [
    "# 3 Extended\n",
    "both "
   ],
   "metadata": {
    "collapsed": false,
    "ExecuteTime": {
     "end_time": "2024-08-28T18:54:55.286679400Z",
     "start_time": "2024-08-28T18:54:55.223665600Z"
    }
   },
   "execution_count": 10
  },
  {
   "cell_type": "code",
   "execution_count": 11,
   "metadata": {
    "ExecuteTime": {
     "end_time": "2024-08-28T18:54:55.288679800Z",
     "start_time": "2024-08-28T18:54:55.255672600Z"
    }
   },
   "outputs": [
    {
     "data": {
      "text/plain": "host_name\nFalse    45269\nTrue      1258\nName: count, dtype: int64"
     },
     "execution_count": 11,
     "metadata": {},
     "output_type": "execute_result"
    }
   ],
   "source": [
    "# 4. Using `.isin()` select anyone that has the host name of Michael, David, John, and Daniel.\n",
    "# How many total are there that have those names\n",
    "hosts = ['Michael', 'David', 'John', 'Daniel']\n",
    "hosts_df = df['host_name'].isin(hosts)\n",
    "hosts_df.value_counts()"
   ]
  },
  {
   "cell_type": "code",
   "outputs": [
    {
     "data": {
      "text/plain": "             id                                               name    host_id  \\\n52        16595  LOFT HAVEN ~ Six Windows ~ Bricks ~ Plants ~ Q...      64522   \n201       61747              Cozy,  Brooklyn, Prospect Park Studio     299370   \n209       62903  Beautiful modern studio apartment in heart of NYC     306605   \n220       64015                       Prime East Village 1 Bedroom     146944   \n260       74073       Food & Music Dream Apartment in Williamsburg     211877   \n...         ...                                                ...        ...   \n46362  44639591  Central & Stylish 1 Bedroom Apt - Heart of Che...  286136716   \n46396  44661297                       Flushing Sunshine home  #101  361579037   \n46403  44662157                        Flushing Sunshine home #102  361579037   \n46455  44697211                           David’s Queen Sized Room  343477029   \n46508  44797527    Long-Term: Furnished Apt in Nolita w/ Amenities   19448640   \n\n      host_name neighbourhood_group              neighbourhood  latitude  \\\n52       Daniel            Brooklyn               Williamsburg  40.70933   \n201       David            Brooklyn  Prospect-Lefferts Gardens  40.65979   \n209      Daniel           Manhattan                    Chelsea  40.74238   \n220       David           Manhattan               East Village  40.72807   \n260      Daniel            Brooklyn               Williamsburg  40.71113   \n...         ...                 ...                        ...       ...   \n46362      John           Manhattan                    Chelsea  40.74568   \n46396    Daniel              Queens                   Flushing  40.74603   \n46403    Daniel              Queens                   Flushing  40.74441   \n46455     David              Queens               Far Rockaway  40.59460   \n46508     David           Manhattan                     Nolita  40.72289   \n\n       longitude        room_type  price  minimum_nights  number_of_reviews  \\\n52     -73.96792  Entire home/apt    271               1                172   \n201    -73.96180  Entire home/apt     91              14                 97   \n209    -73.99567  Entire home/apt    205              15                 68   \n220    -73.98594  Entire home/apt    200               3                  0   \n260    -73.96054  Entire home/apt    187              30                 90   \n...          ...              ...    ...             ...                ...   \n46362  -73.99694  Entire home/apt    110              30                  0   \n46396  -73.82837     Private room     52               1                  0   \n46403  -73.82829     Private room     55               1                  3   \n46455  -73.75875     Private room     95               1                  0   \n46508  -73.99400  Entire home/apt    140              30                  0   \n\n      last_review  reviews_per_month  calculated_host_listings_count  \\\n52     2020-07-14               1.44                               1   \n201    2018-01-31               0.83                               1   \n209    2019-12-14               0.67                               2   \n220           NaN                NaN                               1   \n260    2020-07-31               0.81                               1   \n...           ...                ...                             ...   \n46362         NaN                NaN                               3   \n46396         NaN                NaN                               2   \n46403  2020-08-16               3.00                               2   \n46455         NaN                NaN                               1   \n46508         NaN                NaN                               1   \n\n       availability_365  \n52                  365  \n201                  44  \n209                  89  \n220                   0  \n260                 261  \n...                 ...  \n46362               110  \n46396               360  \n46403               365  \n46455               365  \n46508               282  \n\n[1258 rows x 16 columns]",
      "text/html": "<div>\n<style scoped>\n    .dataframe tbody tr th:only-of-type {\n        vertical-align: middle;\n    }\n\n    .dataframe tbody tr th {\n        vertical-align: top;\n    }\n\n    .dataframe thead th {\n        text-align: right;\n    }\n</style>\n<table border=\"1\" class=\"dataframe\">\n  <thead>\n    <tr style=\"text-align: right;\">\n      <th></th>\n      <th>id</th>\n      <th>name</th>\n      <th>host_id</th>\n      <th>host_name</th>\n      <th>neighbourhood_group</th>\n      <th>neighbourhood</th>\n      <th>latitude</th>\n      <th>longitude</th>\n      <th>room_type</th>\n      <th>price</th>\n      <th>minimum_nights</th>\n      <th>number_of_reviews</th>\n      <th>last_review</th>\n      <th>reviews_per_month</th>\n      <th>calculated_host_listings_count</th>\n      <th>availability_365</th>\n    </tr>\n  </thead>\n  <tbody>\n    <tr>\n      <th>52</th>\n      <td>16595</td>\n      <td>LOFT HAVEN ~ Six Windows ~ Bricks ~ Plants ~ Q...</td>\n      <td>64522</td>\n      <td>Daniel</td>\n      <td>Brooklyn</td>\n      <td>Williamsburg</td>\n      <td>40.70933</td>\n      <td>-73.96792</td>\n      <td>Entire home/apt</td>\n      <td>271</td>\n      <td>1</td>\n      <td>172</td>\n      <td>2020-07-14</td>\n      <td>1.44</td>\n      <td>1</td>\n      <td>365</td>\n    </tr>\n    <tr>\n      <th>201</th>\n      <td>61747</td>\n      <td>Cozy,  Brooklyn, Prospect Park Studio</td>\n      <td>299370</td>\n      <td>David</td>\n      <td>Brooklyn</td>\n      <td>Prospect-Lefferts Gardens</td>\n      <td>40.65979</td>\n      <td>-73.96180</td>\n      <td>Entire home/apt</td>\n      <td>91</td>\n      <td>14</td>\n      <td>97</td>\n      <td>2018-01-31</td>\n      <td>0.83</td>\n      <td>1</td>\n      <td>44</td>\n    </tr>\n    <tr>\n      <th>209</th>\n      <td>62903</td>\n      <td>Beautiful modern studio apartment in heart of NYC</td>\n      <td>306605</td>\n      <td>Daniel</td>\n      <td>Manhattan</td>\n      <td>Chelsea</td>\n      <td>40.74238</td>\n      <td>-73.99567</td>\n      <td>Entire home/apt</td>\n      <td>205</td>\n      <td>15</td>\n      <td>68</td>\n      <td>2019-12-14</td>\n      <td>0.67</td>\n      <td>2</td>\n      <td>89</td>\n    </tr>\n    <tr>\n      <th>220</th>\n      <td>64015</td>\n      <td>Prime East Village 1 Bedroom</td>\n      <td>146944</td>\n      <td>David</td>\n      <td>Manhattan</td>\n      <td>East Village</td>\n      <td>40.72807</td>\n      <td>-73.98594</td>\n      <td>Entire home/apt</td>\n      <td>200</td>\n      <td>3</td>\n      <td>0</td>\n      <td>NaN</td>\n      <td>NaN</td>\n      <td>1</td>\n      <td>0</td>\n    </tr>\n    <tr>\n      <th>260</th>\n      <td>74073</td>\n      <td>Food &amp; Music Dream Apartment in Williamsburg</td>\n      <td>211877</td>\n      <td>Daniel</td>\n      <td>Brooklyn</td>\n      <td>Williamsburg</td>\n      <td>40.71113</td>\n      <td>-73.96054</td>\n      <td>Entire home/apt</td>\n      <td>187</td>\n      <td>30</td>\n      <td>90</td>\n      <td>2020-07-31</td>\n      <td>0.81</td>\n      <td>1</td>\n      <td>261</td>\n    </tr>\n    <tr>\n      <th>...</th>\n      <td>...</td>\n      <td>...</td>\n      <td>...</td>\n      <td>...</td>\n      <td>...</td>\n      <td>...</td>\n      <td>...</td>\n      <td>...</td>\n      <td>...</td>\n      <td>...</td>\n      <td>...</td>\n      <td>...</td>\n      <td>...</td>\n      <td>...</td>\n      <td>...</td>\n      <td>...</td>\n    </tr>\n    <tr>\n      <th>46362</th>\n      <td>44639591</td>\n      <td>Central &amp; Stylish 1 Bedroom Apt - Heart of Che...</td>\n      <td>286136716</td>\n      <td>John</td>\n      <td>Manhattan</td>\n      <td>Chelsea</td>\n      <td>40.74568</td>\n      <td>-73.99694</td>\n      <td>Entire home/apt</td>\n      <td>110</td>\n      <td>30</td>\n      <td>0</td>\n      <td>NaN</td>\n      <td>NaN</td>\n      <td>3</td>\n      <td>110</td>\n    </tr>\n    <tr>\n      <th>46396</th>\n      <td>44661297</td>\n      <td>Flushing Sunshine home  #101</td>\n      <td>361579037</td>\n      <td>Daniel</td>\n      <td>Queens</td>\n      <td>Flushing</td>\n      <td>40.74603</td>\n      <td>-73.82837</td>\n      <td>Private room</td>\n      <td>52</td>\n      <td>1</td>\n      <td>0</td>\n      <td>NaN</td>\n      <td>NaN</td>\n      <td>2</td>\n      <td>360</td>\n    </tr>\n    <tr>\n      <th>46403</th>\n      <td>44662157</td>\n      <td>Flushing Sunshine home #102</td>\n      <td>361579037</td>\n      <td>Daniel</td>\n      <td>Queens</td>\n      <td>Flushing</td>\n      <td>40.74441</td>\n      <td>-73.82829</td>\n      <td>Private room</td>\n      <td>55</td>\n      <td>1</td>\n      <td>3</td>\n      <td>2020-08-16</td>\n      <td>3.00</td>\n      <td>2</td>\n      <td>365</td>\n    </tr>\n    <tr>\n      <th>46455</th>\n      <td>44697211</td>\n      <td>David’s Queen Sized Room</td>\n      <td>343477029</td>\n      <td>David</td>\n      <td>Queens</td>\n      <td>Far Rockaway</td>\n      <td>40.59460</td>\n      <td>-73.75875</td>\n      <td>Private room</td>\n      <td>95</td>\n      <td>1</td>\n      <td>0</td>\n      <td>NaN</td>\n      <td>NaN</td>\n      <td>1</td>\n      <td>365</td>\n    </tr>\n    <tr>\n      <th>46508</th>\n      <td>44797527</td>\n      <td>Long-Term: Furnished Apt in Nolita w/ Amenities</td>\n      <td>19448640</td>\n      <td>David</td>\n      <td>Manhattan</td>\n      <td>Nolita</td>\n      <td>40.72289</td>\n      <td>-73.99400</td>\n      <td>Entire home/apt</td>\n      <td>140</td>\n      <td>30</td>\n      <td>0</td>\n      <td>NaN</td>\n      <td>NaN</td>\n      <td>1</td>\n      <td>282</td>\n    </tr>\n  </tbody>\n</table>\n<p>1258 rows × 16 columns</p>\n</div>"
     },
     "execution_count": 12,
     "metadata": {},
     "output_type": "execute_result"
    }
   ],
   "source": [
    "# 4 Extended\n",
    "df[hosts_df]"
   ],
   "metadata": {
    "collapsed": false,
    "ExecuteTime": {
     "end_time": "2024-08-28T18:54:55.339692100Z",
     "start_time": "2024-08-28T18:54:55.271676400Z"
    }
   },
   "execution_count": 12
  },
  {
   "cell_type": "code",
   "execution_count": 13,
   "metadata": {
    "ExecuteTime": {
     "end_time": "2024-08-28T18:54:55.388702800Z",
     "start_time": "2024-08-28T18:54:55.286679400Z"
    }
   },
   "outputs": [
    {
     "data": {
      "text/plain": "             id                                               name    host_id  \\\n11         6848                   Only 2 stops to Manhattan studio      15991   \n15         7801                   Sweet and Spacious Brooklyn Loft      21207   \n35        14290                         * ORIGINAL BROOKLYN LOFT *      56104   \n38        14377                   Williamsburg 1 bedroom Apartment      56512   \n42        15385                              Very, very cozy place      60252   \n...         ...                                                ...        ...   \n46484  44746041      Modern, light-filled apartment in Wiliamsburg    3317380   \n46489  44749327  Luxury 3 bedroom apartment Williamsburg ROOF P...  334780877   \n46493  44753863            Bright, spacious East Williamsburg loft   38062951   \n46513  44800276        Williamsburg 1 Bedroom, Spacious and Classy  361034257   \n46517  44802032                  A very large room in Williamsburg  213793805   \n\n             host_name neighbourhood_group neighbourhood  latitude  longitude  \\\n11       Allen & Irina            Brooklyn  Williamsburg  40.70837  -73.95352   \n15               Chaya            Brooklyn  Williamsburg  40.71842  -73.95718   \n35               James            Brooklyn  Williamsburg  40.70420  -73.93560   \n38              Joanna            Brooklyn  Williamsburg  40.70881  -73.95930   \n42            Cristina            Brooklyn  Williamsburg  40.71185  -73.96204   \n...                ...                 ...           ...       ...        ...   \n46484            Marge            Brooklyn  Williamsburg  40.71372  -73.95407   \n46489    Pedro & Maria            Brooklyn  Williamsburg  40.70902  -73.95610   \n46493           Nathan            Brooklyn  Williamsburg  40.70372  -73.93492   \n46513  Angelo + Amirah            Brooklyn  Williamsburg  40.71283  -73.95400   \n46517             Omer            Brooklyn  Williamsburg  40.71970  -73.95632   \n\n             room_type  price  minimum_nights  number_of_reviews last_review  \\\n11     Entire home/apt    109               2                181  2020-03-16   \n15     Entire home/apt    299               3                  9  2011-12-28   \n35     Entire home/apt    131               3                 95  2020-05-28   \n38     Entire home/apt    175              10                113  2020-01-24   \n42        Private room     80               7                 49  2020-02-07   \n...                ...    ...             ...                ...         ...   \n46484  Entire home/apt    250               7                  0         NaN   \n46489  Entire home/apt    464               4                  0         NaN   \n46493  Entire home/apt    100               7                  0         NaN   \n46513  Entire home/apt    180               7                  0         NaN   \n46517     Private room     55              14                  0         NaN   \n\n       reviews_per_month  calculated_host_listings_count  availability_365  \\\n11                  1.32                               1                 0   \n15                  0.07                               1               337   \n35                  0.73                               1               164   \n38                  0.87                               1               165   \n42                  0.39                               1               229   \n...                  ...                             ...               ...   \n46484                NaN                               1               164   \n46489                NaN                               1               344   \n46493                NaN                               1               146   \n46513                NaN                               1               364   \n46517                NaN                               1                45   \n\n       adjusted_price  \n11              209.0  \n15              399.0  \n35              231.0  \n38              275.0  \n42              180.0  \n...               ...  \n46484           350.0  \n46489           564.0  \n46493           200.0  \n46513           280.0  \n46517           155.0  \n\n[3486 rows x 17 columns]",
      "text/html": "<div>\n<style scoped>\n    .dataframe tbody tr th:only-of-type {\n        vertical-align: middle;\n    }\n\n    .dataframe tbody tr th {\n        vertical-align: top;\n    }\n\n    .dataframe thead th {\n        text-align: right;\n    }\n</style>\n<table border=\"1\" class=\"dataframe\">\n  <thead>\n    <tr style=\"text-align: right;\">\n      <th></th>\n      <th>id</th>\n      <th>name</th>\n      <th>host_id</th>\n      <th>host_name</th>\n      <th>neighbourhood_group</th>\n      <th>neighbourhood</th>\n      <th>latitude</th>\n      <th>longitude</th>\n      <th>room_type</th>\n      <th>price</th>\n      <th>minimum_nights</th>\n      <th>number_of_reviews</th>\n      <th>last_review</th>\n      <th>reviews_per_month</th>\n      <th>calculated_host_listings_count</th>\n      <th>availability_365</th>\n      <th>adjusted_price</th>\n    </tr>\n  </thead>\n  <tbody>\n    <tr>\n      <th>11</th>\n      <td>6848</td>\n      <td>Only 2 stops to Manhattan studio</td>\n      <td>15991</td>\n      <td>Allen &amp; Irina</td>\n      <td>Brooklyn</td>\n      <td>Williamsburg</td>\n      <td>40.70837</td>\n      <td>-73.95352</td>\n      <td>Entire home/apt</td>\n      <td>109</td>\n      <td>2</td>\n      <td>181</td>\n      <td>2020-03-16</td>\n      <td>1.32</td>\n      <td>1</td>\n      <td>0</td>\n      <td>209.0</td>\n    </tr>\n    <tr>\n      <th>15</th>\n      <td>7801</td>\n      <td>Sweet and Spacious Brooklyn Loft</td>\n      <td>21207</td>\n      <td>Chaya</td>\n      <td>Brooklyn</td>\n      <td>Williamsburg</td>\n      <td>40.71842</td>\n      <td>-73.95718</td>\n      <td>Entire home/apt</td>\n      <td>299</td>\n      <td>3</td>\n      <td>9</td>\n      <td>2011-12-28</td>\n      <td>0.07</td>\n      <td>1</td>\n      <td>337</td>\n      <td>399.0</td>\n    </tr>\n    <tr>\n      <th>35</th>\n      <td>14290</td>\n      <td>* ORIGINAL BROOKLYN LOFT *</td>\n      <td>56104</td>\n      <td>James</td>\n      <td>Brooklyn</td>\n      <td>Williamsburg</td>\n      <td>40.70420</td>\n      <td>-73.93560</td>\n      <td>Entire home/apt</td>\n      <td>131</td>\n      <td>3</td>\n      <td>95</td>\n      <td>2020-05-28</td>\n      <td>0.73</td>\n      <td>1</td>\n      <td>164</td>\n      <td>231.0</td>\n    </tr>\n    <tr>\n      <th>38</th>\n      <td>14377</td>\n      <td>Williamsburg 1 bedroom Apartment</td>\n      <td>56512</td>\n      <td>Joanna</td>\n      <td>Brooklyn</td>\n      <td>Williamsburg</td>\n      <td>40.70881</td>\n      <td>-73.95930</td>\n      <td>Entire home/apt</td>\n      <td>175</td>\n      <td>10</td>\n      <td>113</td>\n      <td>2020-01-24</td>\n      <td>0.87</td>\n      <td>1</td>\n      <td>165</td>\n      <td>275.0</td>\n    </tr>\n    <tr>\n      <th>42</th>\n      <td>15385</td>\n      <td>Very, very cozy place</td>\n      <td>60252</td>\n      <td>Cristina</td>\n      <td>Brooklyn</td>\n      <td>Williamsburg</td>\n      <td>40.71185</td>\n      <td>-73.96204</td>\n      <td>Private room</td>\n      <td>80</td>\n      <td>7</td>\n      <td>49</td>\n      <td>2020-02-07</td>\n      <td>0.39</td>\n      <td>1</td>\n      <td>229</td>\n      <td>180.0</td>\n    </tr>\n    <tr>\n      <th>...</th>\n      <td>...</td>\n      <td>...</td>\n      <td>...</td>\n      <td>...</td>\n      <td>...</td>\n      <td>...</td>\n      <td>...</td>\n      <td>...</td>\n      <td>...</td>\n      <td>...</td>\n      <td>...</td>\n      <td>...</td>\n      <td>...</td>\n      <td>...</td>\n      <td>...</td>\n      <td>...</td>\n      <td>...</td>\n    </tr>\n    <tr>\n      <th>46484</th>\n      <td>44746041</td>\n      <td>Modern, light-filled apartment in Wiliamsburg</td>\n      <td>3317380</td>\n      <td>Marge</td>\n      <td>Brooklyn</td>\n      <td>Williamsburg</td>\n      <td>40.71372</td>\n      <td>-73.95407</td>\n      <td>Entire home/apt</td>\n      <td>250</td>\n      <td>7</td>\n      <td>0</td>\n      <td>NaN</td>\n      <td>NaN</td>\n      <td>1</td>\n      <td>164</td>\n      <td>350.0</td>\n    </tr>\n    <tr>\n      <th>46489</th>\n      <td>44749327</td>\n      <td>Luxury 3 bedroom apartment Williamsburg ROOF P...</td>\n      <td>334780877</td>\n      <td>Pedro &amp; Maria</td>\n      <td>Brooklyn</td>\n      <td>Williamsburg</td>\n      <td>40.70902</td>\n      <td>-73.95610</td>\n      <td>Entire home/apt</td>\n      <td>464</td>\n      <td>4</td>\n      <td>0</td>\n      <td>NaN</td>\n      <td>NaN</td>\n      <td>1</td>\n      <td>344</td>\n      <td>564.0</td>\n    </tr>\n    <tr>\n      <th>46493</th>\n      <td>44753863</td>\n      <td>Bright, spacious East Williamsburg loft</td>\n      <td>38062951</td>\n      <td>Nathan</td>\n      <td>Brooklyn</td>\n      <td>Williamsburg</td>\n      <td>40.70372</td>\n      <td>-73.93492</td>\n      <td>Entire home/apt</td>\n      <td>100</td>\n      <td>7</td>\n      <td>0</td>\n      <td>NaN</td>\n      <td>NaN</td>\n      <td>1</td>\n      <td>146</td>\n      <td>200.0</td>\n    </tr>\n    <tr>\n      <th>46513</th>\n      <td>44800276</td>\n      <td>Williamsburg 1 Bedroom, Spacious and Classy</td>\n      <td>361034257</td>\n      <td>Angelo + Amirah</td>\n      <td>Brooklyn</td>\n      <td>Williamsburg</td>\n      <td>40.71283</td>\n      <td>-73.95400</td>\n      <td>Entire home/apt</td>\n      <td>180</td>\n      <td>7</td>\n      <td>0</td>\n      <td>NaN</td>\n      <td>NaN</td>\n      <td>1</td>\n      <td>364</td>\n      <td>280.0</td>\n    </tr>\n    <tr>\n      <th>46517</th>\n      <td>44802032</td>\n      <td>A very large room in Williamsburg</td>\n      <td>213793805</td>\n      <td>Omer</td>\n      <td>Brooklyn</td>\n      <td>Williamsburg</td>\n      <td>40.71970</td>\n      <td>-73.95632</td>\n      <td>Private room</td>\n      <td>55</td>\n      <td>14</td>\n      <td>0</td>\n      <td>NaN</td>\n      <td>NaN</td>\n      <td>1</td>\n      <td>45</td>\n      <td>155.0</td>\n    </tr>\n  </tbody>\n</table>\n<p>3486 rows × 17 columns</p>\n</div>"
     },
     "execution_count": 13,
     "metadata": {},
     "output_type": "execute_result"
    }
   ],
   "source": [
    "# 5. Create a new column called `adjusted_price` that has $100 added to every listing in Williamsburg.  \n",
    "# The prices for all other listings should be the same as they were before. \n",
    "willy = df['neighbourhood'] == 'Williamsburg'\n",
    "df['adjusted_price'] = df['price'].where(willy) + 100\n",
    "df[willy]"
   ]
  },
  {
   "cell_type": "code",
   "execution_count": 13,
   "metadata": {
    "ExecuteTime": {
     "end_time": "2024-08-28T20:05:16.495574300Z",
     "start_time": "2024-08-28T20:05:16.475025200Z"
    }
   },
   "outputs": [
    {
     "data": {
      "text/plain": "room_type\nEntire home/apt    0.515787\nPrivate room       0.454446\nShared room        0.021213\nHotel room         0.008554\nName: proportion, dtype: float64"
     },
     "execution_count": 13,
     "metadata": {},
     "output_type": "execute_result"
    }
   ],
   "source": [
    "# 6. What % of the rooms are private, and what % of the rooms are shared.  \n",
    "df['room_type'].value_counts(normalize=True)\n",
    "# 45.44% private; 2.12% shared"
   ]
  },
  {
   "cell_type": "markdown",
   "metadata": {},
   "source": [
    "# Exercise 3 - Grouping\n",
    "\n",
    "1. Using `groupby`, count how many listings are in each neighbourhood_group.\n",
    "\n",
    "\n",
    "2. Using `groupby`, find the mean price for each of the neighbourhood_groups. \n",
    "\n",
    "\n",
    "3. Using `groupby` and `.agg()`, find the min and max price for each of the neighbourhood_groups. \n",
    "\n",
    "\n",
    "4. Using `groupby`, find the median price for each room type in each neighbourhood_group.\n",
    "\n",
    "\n",
    "5. Using `groupby` and `.agg()`, find the count, min, max, mean, median, and std of the prices for each room type in each neighbourhood_group."
   ]
  },
  {
   "cell_type": "code",
   "execution_count": 12,
   "metadata": {
    "ExecuteTime": {
     "end_time": "2024-08-28T20:05:13.248808800Z",
     "start_time": "2024-08-28T20:05:13.235832900Z"
    }
   },
   "outputs": [
    {
     "data": {
      "text/plain": "neighbourhood_group\nBronx             1183\nBrooklyn         18632\nManhattan        20580\nQueens            5791\nStaten Island      341\ndtype: int64"
     },
     "execution_count": 12,
     "metadata": {},
     "output_type": "execute_result"
    }
   ],
   "source": [
    "# 1. Using `groupby`, count how many listings are in each neighbourhood_group.\n",
    "df.groupby(['neighbourhood_group']).size()"
   ]
  },
  {
   "cell_type": "code",
   "execution_count": 23,
   "metadata": {
    "ExecuteTime": {
     "end_time": "2024-08-28T20:08:53.307846300Z",
     "start_time": "2024-08-28T20:08:53.294390300Z"
    }
   },
   "outputs": [
    {
     "data": {
      "text/plain": "neighbourhood_group\nBronx             92.751479\nBrooklyn         120.225258\nManhattan        191.880466\nQueens            99.754965\nStaten Island    110.947214\nName: price, dtype: float64"
     },
     "execution_count": 23,
     "metadata": {},
     "output_type": "execute_result"
    }
   ],
   "source": [
    "# 2. Using `groupby`, find the mean price for each of the neighbourhood_groups. \n",
    "df.groupby('neighbourhood_group')['price'].mean()"
   ]
  },
  {
   "cell_type": "code",
   "execution_count": 24,
   "metadata": {
    "ExecuteTime": {
     "end_time": "2024-08-28T20:12:23.721870300Z",
     "start_time": "2024-08-28T20:12:23.705359300Z"
    }
   },
   "outputs": [
    {
     "data": {
      "text/plain": "room_type\nEntire home/apt    199.395950\nHotel room         275.015075\nPrivate room        91.453084\nShared room         87.063830\nName: price, dtype: float64"
     },
     "execution_count": 24,
     "metadata": {},
     "output_type": "execute_result"
    }
   ],
   "source": [
    "# 2.5. Using `groupby`, find the mean price for each room_type. \n",
    "df.groupby('room_type')['price'].mean()"
   ]
  },
  {
   "cell_type": "code",
   "execution_count": 29,
   "metadata": {
    "ExecuteTime": {
     "end_time": "2024-08-28T20:15:38.401814200Z",
     "start_time": "2024-08-28T20:15:38.388218900Z"
    }
   },
   "outputs": [
    {
     "data": {
      "text/plain": "                     min    max\nneighbourhood_group            \nBronx                 16   1404\nBrooklyn               0  10000\nManhattan              0  10000\nQueens                 0  10000\nStaten Island         19   1200",
      "text/html": "<div>\n<style scoped>\n    .dataframe tbody tr th:only-of-type {\n        vertical-align: middle;\n    }\n\n    .dataframe tbody tr th {\n        vertical-align: top;\n    }\n\n    .dataframe thead th {\n        text-align: right;\n    }\n</style>\n<table border=\"1\" class=\"dataframe\">\n  <thead>\n    <tr style=\"text-align: right;\">\n      <th></th>\n      <th>min</th>\n      <th>max</th>\n    </tr>\n    <tr>\n      <th>neighbourhood_group</th>\n      <th></th>\n      <th></th>\n    </tr>\n  </thead>\n  <tbody>\n    <tr>\n      <th>Bronx</th>\n      <td>16</td>\n      <td>1404</td>\n    </tr>\n    <tr>\n      <th>Brooklyn</th>\n      <td>0</td>\n      <td>10000</td>\n    </tr>\n    <tr>\n      <th>Manhattan</th>\n      <td>0</td>\n      <td>10000</td>\n    </tr>\n    <tr>\n      <th>Queens</th>\n      <td>0</td>\n      <td>10000</td>\n    </tr>\n    <tr>\n      <th>Staten Island</th>\n      <td>19</td>\n      <td>1200</td>\n    </tr>\n  </tbody>\n</table>\n</div>"
     },
     "execution_count": 29,
     "metadata": {},
     "output_type": "execute_result"
    }
   ],
   "source": [
    "# 3. Using `groupby` and `.agg()`, find the min and max price for each of the neighbourhood_groups. \n",
    "df.groupby('neighbourhood_group')['price'].agg(['min', 'max'])"
   ]
  },
  {
   "cell_type": "code",
   "execution_count": 33,
   "metadata": {
    "ExecuteTime": {
     "end_time": "2024-08-28T20:21:51.378542400Z",
     "start_time": "2024-08-28T20:21:51.363722300Z"
    }
   },
   "outputs": [
    {
     "data": {
      "text/plain": "neighbourhood_group  room_type      \nBronx                Entire home/apt    138.004819\n                     Private room        68.419668\n                     Shared room         66.391304\nBrooklyn             Entire home/apt    171.587687\n                     Hotel room         147.300000\n                     Private room        71.291189\n                     Shared room         57.870091\nManhattan            Entire home/apt    231.335572\n                     Hotel room         292.515670\n                     Private room       128.277069\n                     Shared room        111.735084\nQueens               Entire home/apt    150.168900\n                     Hotel room         139.058824\n                     Private room        69.972564\n                     Shared room         89.891892\nStaten Island        Entire home/apt    151.720930\n                     Private room        70.312883\n                     Shared room         46.000000\nName: price, dtype: float64"
     },
     "execution_count": 33,
     "metadata": {},
     "output_type": "execute_result"
    }
   ],
   "source": [
    "# 4. Using `groupby`, find the mean price for each room_type in each neighbourhood_group.\n",
    "df.groupby(['neighbourhood_group', 'room_type'])['price'].mean()"
   ]
  },
  {
   "cell_type": "code",
   "execution_count": 35,
   "metadata": {
    "ExecuteTime": {
     "end_time": "2024-08-28T20:24:33.074918500Z",
     "start_time": "2024-08-28T20:24:33.042513800Z"
    }
   },
   "outputs": [
    {
     "data": {
      "text/plain": "                                     count  min    max        mean  median  \\\nneighbourhood_group room_type                                                \nBronx               Entire home/apt    415   25   1404  138.004819   103.0   \n                    Private room       722   16    700   68.419668    55.0   \n                    Shared room         46   20    800   66.391304    44.0   \nBrooklyn            Entire home/apt   9112   20  10000  171.587687   135.0   \n                    Hotel room          30    0    399  147.300000   129.0   \n                    Private room      9159   10   2500   71.291189    60.0   \n                    Shared room        331   15   1500   57.870091    36.0   \nManhattan           Entire home/apt  12209    0  10000  231.335572   165.0   \n                    Hotel room         351    0   2211  292.515670   210.0   \n                    Private room      7601   10  10000  128.277069    80.0   \n                    Shared room        419   10  10000  111.735084    60.0   \nQueens              Entire home/apt   2090   10  10000  150.168900   115.0   \n                    Hotel room          17    0    249  139.058824   149.0   \n                    Private room      3499   18   9000   69.972564    55.0   \n                    Shared room        185   14   3000   89.891892    40.0   \nStaten Island       Entire home/apt    172   39   1200  151.720930   111.0   \n                    Private room       163   20    800   70.312883    55.0   \n                    Shared room          6   19     82   46.000000    38.0   \n\n                                            std  \nneighbourhood_group room_type                    \nBronx               Entire home/apt  126.032106  \n                    Private room      57.337866  \n                    Shared room      114.442703  \nBrooklyn            Entire home/apt  236.732843  \n                    Hotel room        91.153206  \n                    Private room      69.023165  \n                    Shared room       92.217618  \nManhattan           Entire home/apt  410.306439  \n                    Hotel room       315.924085  \n                    Private room     448.677306  \n                    Shared room      502.728868  \nQueens              Entire home/apt  252.606739  \n                    Hotel room        50.743806  \n                    Private room     163.814468  \n                    Shared room      275.675158  \nStaten Island       Entire home/apt  147.518392  \n                    Private room      70.759593  \n                    Shared room       28.446441  ",
      "text/html": "<div>\n<style scoped>\n    .dataframe tbody tr th:only-of-type {\n        vertical-align: middle;\n    }\n\n    .dataframe tbody tr th {\n        vertical-align: top;\n    }\n\n    .dataframe thead th {\n        text-align: right;\n    }\n</style>\n<table border=\"1\" class=\"dataframe\">\n  <thead>\n    <tr style=\"text-align: right;\">\n      <th></th>\n      <th></th>\n      <th>count</th>\n      <th>min</th>\n      <th>max</th>\n      <th>mean</th>\n      <th>median</th>\n      <th>std</th>\n    </tr>\n    <tr>\n      <th>neighbourhood_group</th>\n      <th>room_type</th>\n      <th></th>\n      <th></th>\n      <th></th>\n      <th></th>\n      <th></th>\n      <th></th>\n    </tr>\n  </thead>\n  <tbody>\n    <tr>\n      <th rowspan=\"3\" valign=\"top\">Bronx</th>\n      <th>Entire home/apt</th>\n      <td>415</td>\n      <td>25</td>\n      <td>1404</td>\n      <td>138.004819</td>\n      <td>103.0</td>\n      <td>126.032106</td>\n    </tr>\n    <tr>\n      <th>Private room</th>\n      <td>722</td>\n      <td>16</td>\n      <td>700</td>\n      <td>68.419668</td>\n      <td>55.0</td>\n      <td>57.337866</td>\n    </tr>\n    <tr>\n      <th>Shared room</th>\n      <td>46</td>\n      <td>20</td>\n      <td>800</td>\n      <td>66.391304</td>\n      <td>44.0</td>\n      <td>114.442703</td>\n    </tr>\n    <tr>\n      <th rowspan=\"4\" valign=\"top\">Brooklyn</th>\n      <th>Entire home/apt</th>\n      <td>9112</td>\n      <td>20</td>\n      <td>10000</td>\n      <td>171.587687</td>\n      <td>135.0</td>\n      <td>236.732843</td>\n    </tr>\n    <tr>\n      <th>Hotel room</th>\n      <td>30</td>\n      <td>0</td>\n      <td>399</td>\n      <td>147.300000</td>\n      <td>129.0</td>\n      <td>91.153206</td>\n    </tr>\n    <tr>\n      <th>Private room</th>\n      <td>9159</td>\n      <td>10</td>\n      <td>2500</td>\n      <td>71.291189</td>\n      <td>60.0</td>\n      <td>69.023165</td>\n    </tr>\n    <tr>\n      <th>Shared room</th>\n      <td>331</td>\n      <td>15</td>\n      <td>1500</td>\n      <td>57.870091</td>\n      <td>36.0</td>\n      <td>92.217618</td>\n    </tr>\n    <tr>\n      <th rowspan=\"4\" valign=\"top\">Manhattan</th>\n      <th>Entire home/apt</th>\n      <td>12209</td>\n      <td>0</td>\n      <td>10000</td>\n      <td>231.335572</td>\n      <td>165.0</td>\n      <td>410.306439</td>\n    </tr>\n    <tr>\n      <th>Hotel room</th>\n      <td>351</td>\n      <td>0</td>\n      <td>2211</td>\n      <td>292.515670</td>\n      <td>210.0</td>\n      <td>315.924085</td>\n    </tr>\n    <tr>\n      <th>Private room</th>\n      <td>7601</td>\n      <td>10</td>\n      <td>10000</td>\n      <td>128.277069</td>\n      <td>80.0</td>\n      <td>448.677306</td>\n    </tr>\n    <tr>\n      <th>Shared room</th>\n      <td>419</td>\n      <td>10</td>\n      <td>10000</td>\n      <td>111.735084</td>\n      <td>60.0</td>\n      <td>502.728868</td>\n    </tr>\n    <tr>\n      <th rowspan=\"4\" valign=\"top\">Queens</th>\n      <th>Entire home/apt</th>\n      <td>2090</td>\n      <td>10</td>\n      <td>10000</td>\n      <td>150.168900</td>\n      <td>115.0</td>\n      <td>252.606739</td>\n    </tr>\n    <tr>\n      <th>Hotel room</th>\n      <td>17</td>\n      <td>0</td>\n      <td>249</td>\n      <td>139.058824</td>\n      <td>149.0</td>\n      <td>50.743806</td>\n    </tr>\n    <tr>\n      <th>Private room</th>\n      <td>3499</td>\n      <td>18</td>\n      <td>9000</td>\n      <td>69.972564</td>\n      <td>55.0</td>\n      <td>163.814468</td>\n    </tr>\n    <tr>\n      <th>Shared room</th>\n      <td>185</td>\n      <td>14</td>\n      <td>3000</td>\n      <td>89.891892</td>\n      <td>40.0</td>\n      <td>275.675158</td>\n    </tr>\n    <tr>\n      <th rowspan=\"3\" valign=\"top\">Staten Island</th>\n      <th>Entire home/apt</th>\n      <td>172</td>\n      <td>39</td>\n      <td>1200</td>\n      <td>151.720930</td>\n      <td>111.0</td>\n      <td>147.518392</td>\n    </tr>\n    <tr>\n      <th>Private room</th>\n      <td>163</td>\n      <td>20</td>\n      <td>800</td>\n      <td>70.312883</td>\n      <td>55.0</td>\n      <td>70.759593</td>\n    </tr>\n    <tr>\n      <th>Shared room</th>\n      <td>6</td>\n      <td>19</td>\n      <td>82</td>\n      <td>46.000000</td>\n      <td>38.0</td>\n      <td>28.446441</td>\n    </tr>\n  </tbody>\n</table>\n</div>"
     },
     "execution_count": 35,
     "metadata": {},
     "output_type": "execute_result"
    }
   ],
   "source": [
    "# 5. Using `groupby` and `.agg()`, find the count, min, max, mean, median, and std of the prices \n",
    "# for each room type in each neighbourhood_group.\n",
    "df.groupby(['neighbourhood_group', 'room_type'])['price'].agg(['count', 'min', 'max', 'mean', 'median', 'std'])"
   ]
  },
  {
   "cell_type": "markdown",
   "metadata": {},
   "source": [
    "# Load, Merge, and Export files.\n",
    "1. Load the `prices.csv` and the `n_listings.csv`\n",
    "    * Having an error..? Inspect the actual csv file if you're having trouble\n",
    "\n",
    "2. Do join that keeps all the records for each table.\n",
    "    * Neighbourhood groups should include ['Bronx', 'Brooklyn', 'Manhattan', 'Queens', 'Staten Island',\n",
    "       'LongIsland']\n",
    "\n",
    "       \n",
    "3. Save your joined csv as `joined.csv` into the data folder. \n",
    "\n",
    "\n",
    "4. Load your saved table and see if it looks the same or different that the DataFrame you used to create it. "
   ]
  },
  {
   "cell_type": "code",
   "execution_count": 40,
   "metadata": {
    "ExecuteTime": {
     "end_time": "2024-08-28T20:29:38.179851700Z",
     "start_time": "2024-08-28T20:29:38.174884200Z"
    }
   },
   "outputs": [],
   "source": [
    "# 1. Load the `prices.csv` and the `n_listings.csv`\n",
    "df_prices = pd.read_csv('data/prices.csv')\n",
    "df_listings = pd.read_csv('data/n_listings.csv')"
   ]
  },
  {
   "cell_type": "code",
   "execution_count": 50,
   "metadata": {
    "ExecuteTime": {
     "end_time": "2024-08-28T20:35:36.891953100Z",
     "start_time": "2024-08-28T20:35:36.883184Z"
    }
   },
   "outputs": [
    {
     "data": {
      "text/plain": "  neighbourhood_group   mean_price   n_listings\n0               Bronx    92.751479       1183.0\n1            Brooklyn   120.225258      18632.0\n2          LongIsland          NaN       4121.0\n3           Manhattan   191.880466      20580.0\n4              Queens    99.754965          NaN\n5       Staten Island   110.947214          NaN",
      "text/html": "<div>\n<style scoped>\n    .dataframe tbody tr th:only-of-type {\n        vertical-align: middle;\n    }\n\n    .dataframe tbody tr th {\n        vertical-align: top;\n    }\n\n    .dataframe thead th {\n        text-align: right;\n    }\n</style>\n<table border=\"1\" class=\"dataframe\">\n  <thead>\n    <tr style=\"text-align: right;\">\n      <th></th>\n      <th>neighbourhood_group</th>\n      <th>mean_price</th>\n      <th>n_listings</th>\n    </tr>\n  </thead>\n  <tbody>\n    <tr>\n      <th>0</th>\n      <td>Bronx</td>\n      <td>92.751479</td>\n      <td>1183.0</td>\n    </tr>\n    <tr>\n      <th>1</th>\n      <td>Brooklyn</td>\n      <td>120.225258</td>\n      <td>18632.0</td>\n    </tr>\n    <tr>\n      <th>2</th>\n      <td>LongIsland</td>\n      <td>NaN</td>\n      <td>4121.0</td>\n    </tr>\n    <tr>\n      <th>3</th>\n      <td>Manhattan</td>\n      <td>191.880466</td>\n      <td>20580.0</td>\n    </tr>\n    <tr>\n      <th>4</th>\n      <td>Queens</td>\n      <td>99.754965</td>\n      <td>NaN</td>\n    </tr>\n    <tr>\n      <th>5</th>\n      <td>Staten Island</td>\n      <td>110.947214</td>\n      <td>NaN</td>\n    </tr>\n  </tbody>\n</table>\n</div>"
     },
     "execution_count": 50,
     "metadata": {},
     "output_type": "execute_result"
    }
   ],
   "source": [
    "# 2. Do join that keeps all the records for each table.\n",
    "df_joined = df_prices.merge(df_listings, on=[\"neighbourhood_group\"], how='outer')\n",
    "df_joined"
   ]
  },
  {
   "cell_type": "code",
   "execution_count": 52,
   "metadata": {
    "ExecuteTime": {
     "end_time": "2024-08-28T20:37:15.450566800Z",
     "start_time": "2024-08-28T20:37:15.446383100Z"
    }
   },
   "outputs": [],
   "source": [
    "# 3. Save your joined csv as `joined.csv` into the data folder. \n",
    "df_joined.to_csv('data/joined.csv', index=False)"
   ]
  },
  {
   "cell_type": "code",
   "execution_count": 54,
   "metadata": {
    "ExecuteTime": {
     "end_time": "2024-08-28T20:38:25.918562100Z",
     "start_time": "2024-08-28T20:38:25.903045500Z"
    }
   },
   "outputs": [
    {
     "data": {
      "text/plain": "  neighbourhood_group   mean_price   n_listings\n0               Bronx    92.751479       1183.0\n1            Brooklyn   120.225258      18632.0\n2          LongIsland          NaN       4121.0\n3           Manhattan   191.880466      20580.0\n4              Queens    99.754965          NaN\n5       Staten Island   110.947214          NaN",
      "text/html": "<div>\n<style scoped>\n    .dataframe tbody tr th:only-of-type {\n        vertical-align: middle;\n    }\n\n    .dataframe tbody tr th {\n        vertical-align: top;\n    }\n\n    .dataframe thead th {\n        text-align: right;\n    }\n</style>\n<table border=\"1\" class=\"dataframe\">\n  <thead>\n    <tr style=\"text-align: right;\">\n      <th></th>\n      <th>neighbourhood_group</th>\n      <th>mean_price</th>\n      <th>n_listings</th>\n    </tr>\n  </thead>\n  <tbody>\n    <tr>\n      <th>0</th>\n      <td>Bronx</td>\n      <td>92.751479</td>\n      <td>1183.0</td>\n    </tr>\n    <tr>\n      <th>1</th>\n      <td>Brooklyn</td>\n      <td>120.225258</td>\n      <td>18632.0</td>\n    </tr>\n    <tr>\n      <th>2</th>\n      <td>LongIsland</td>\n      <td>NaN</td>\n      <td>4121.0</td>\n    </tr>\n    <tr>\n      <th>3</th>\n      <td>Manhattan</td>\n      <td>191.880466</td>\n      <td>20580.0</td>\n    </tr>\n    <tr>\n      <th>4</th>\n      <td>Queens</td>\n      <td>99.754965</td>\n      <td>NaN</td>\n    </tr>\n    <tr>\n      <th>5</th>\n      <td>Staten Island</td>\n      <td>110.947214</td>\n      <td>NaN</td>\n    </tr>\n  </tbody>\n</table>\n</div>"
     },
     "execution_count": 54,
     "metadata": {},
     "output_type": "execute_result"
    }
   ],
   "source": [
    "# 4. Load your newly saved file, see if it looks the same.  If not, try saving with argument `index=False`\n",
    "joined = pd.read_csv('data/joined.csv')\n",
    "joined"
   ]
  },
  {
   "cell_type": "markdown",
   "metadata": {},
   "source": [
    "# Extra Credit\n",
    "Every question below this cell is extra credit and optional."
   ]
  },
  {
   "cell_type": "markdown",
   "metadata": {},
   "source": [
    "### 1. (Easy) Explore this new PandasAI Package and tell me what its all about because I've never used it. \n",
    "* https://www.youtube.com/watch?v=5w6eZaoDVVk&ab_channel=CodingIsFun  \n",
    "* See if you can use it on the listings.csv to find out some cool info. or answer some of the questions above. "
   ]
  },
  {
   "cell_type": "markdown",
   "metadata": {},
   "source": [
    "### 2. (Very Easy) Find other cool Panda packages / add ons and show us what they can do well. And how you installed them. "
   ]
  },
  {
   "cell_type": "markdown",
   "metadata": {},
   "source": [
    "### 3. (Medium) Use the grammys.csv data for the next section of questions.\n",
    "\n",
    "1. Who was won Album of the Year in 2016?\n",
    "\n",
    "\n",
    "2. Who won Best Rap Album in 2009?\n",
    "\n",
    "\n",
    "3. How many awards was Kendrick Lamar nomiated for, and how many did he win...?"
   ]
  },
  {
   "cell_type": "markdown",
   "metadata": {},
   "source": [
    "### (Hard) Load the Game Logs for 2022 and add the column names using a dictionary.  \n",
    "* [Link to the data page](https://www.retrosheet.org/gamelogs/)\n",
    "* [Link to the column names](https://procatinator.com/)\n",
    "* haha, gotta find them yourself!"
   ]
  },
  {
   "cell_type": "markdown",
   "metadata": {},
   "source": [
    "### (Extra Hard) Download the files for the past 5 years into a new folder and add them all into one data frame using pandas, then save that new file.\n",
    "* Try to not hard code in the file names. We want to do this programmatically because what if we want to add new/more file names in the future."
   ]
  },
  {
   "cell_type": "code",
   "execution_count": 24,
   "metadata": {
    "ExecuteTime": {
     "end_time": "2024-08-28T18:54:55.596749500Z",
     "start_time": "2024-08-28T18:54:55.493726400Z"
    }
   },
   "outputs": [],
   "source": []
  }
 ],
 "metadata": {
  "kernelspec": {
   "display_name": "Python 3 (ipykernel)",
   "language": "python",
   "name": "python3"
  },
  "language_info": {
   "codemirror_mode": {
    "name": "ipython",
    "version": 3
   },
   "file_extension": ".py",
   "mimetype": "text/x-python",
   "name": "python",
   "nbconvert_exporter": "python",
   "pygments_lexer": "ipython3",
   "version": "3.11.4"
  }
 },
 "nbformat": 4,
 "nbformat_minor": 4
}
