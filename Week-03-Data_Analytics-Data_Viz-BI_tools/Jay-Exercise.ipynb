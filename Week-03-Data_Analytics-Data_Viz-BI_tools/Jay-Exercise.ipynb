{
 "cells": [
  {
   "cell_type": "code",
   "id": "520b6c75-925e-4de5-bd9a-ed6a1f80eeb0",
   "metadata": {
    "tags": [],
    "ExecuteTime": {
     "end_time": "2024-09-12T15:17:30.221018Z",
     "start_time": "2024-09-12T15:17:27.791514Z"
    }
   },
   "source": [
    "# Import pandas\n",
    "import pandas as pd"
   ],
   "outputs": [],
   "execution_count": 1
  },
  {
   "cell_type": "code",
   "id": "cc7fa726-c2fd-4cfd-9970-7da5371638be",
   "metadata": {
    "tags": [],
    "ExecuteTime": {
     "end_time": "2024-09-12T15:17:30.302071Z",
     "start_time": "2024-09-12T15:17:30.233244Z"
    }
   },
   "source": [
    "# Load in the listings data\n",
    "df=pd.read_csv('data/listings.csv')"
   ],
   "outputs": [],
   "execution_count": 2
  },
  {
   "cell_type": "markdown",
   "id": "859bfd59-1ab7-4b81-9953-7b88ff7cc1bb",
   "metadata": {},
   "source": [
    "####  Exercise 1: Create a bar chart and dataframe of top 10 Neigborhoods that have the most expensive listsings on average. \n",
    "Our goal is to make a chart reflecting the top 10 most expensive Neighborhoods.\n",
    "This is a little dubious - we assign \"expensive\" by calculating the average cost of \n",
    "an AirBnB in each neighborhood.\n",
    "\n",
    "1. Make a dataframe that sorts the neighborhood field by decending price.  \n",
    "1. Use head to cut back top the top 10\n",
    "1. Use pandas.plot.barh to generate a histogram (see [this](https://pandas.pydata.org/pandas-docs/stable/reference/api/pandas.DataFrame.plot.barh.html) wiki for details on pandas.plot.barh)\n",
    "1. Display the data that you used to create the bar chart as a table with neighborhood and average price as the columns.  You want this to match the pivot that you create in youur dashboard"
   ]
  },
  {
   "cell_type": "code",
   "id": "52f83939-3f09-40ac-baab-794afa048f92",
   "metadata": {
    "tags": [],
    "ExecuteTime": {
     "end_time": "2024-09-12T18:05:12.515266Z",
     "start_time": "2024-09-12T18:05:12.500372Z"
    }
   },
   "source": [
    "# our goal is to make a chart reflecting the top 10 most expensive Neighborhoods\n",
    "# This is a little dubious - we assign \"expensive\" by calculating the average cost of \n",
    "# an AirBnB in each neighborhood, then we take the top ten and weight each slice \n",
    "# by the average value.\n",
    "#\n",
    "# make a dataframe that sorts the neighborhood field by descending price.  \n",
    "# Use head to cut back top the top 10. Then, use df.plot.barh to generate a histogram.\n",
    "df_neighborhood = df.groupby('neighbourhood')['price'].mean().sort_values(ascending=False)\n",
    "df_neighborhood.head(30)"
   ],
   "outputs": [
    {
     "data": {
      "text/plain": [
       "neighbourhood\n",
       "Fort Wadsworth        800.000000\n",
       "Woodrow               700.000000\n",
       "Sea Gate              418.230769\n",
       "Tribeca               381.107143\n",
       "Flatiron District     367.415584\n",
       "Briarwood             366.162162\n",
       "Financial District    335.385057\n",
       "Willowbrook           309.000000\n",
       "Tottenville           309.000000\n",
       "Prince's Bay          300.000000\n",
       "Midtown               291.794621\n",
       "Fieldston             281.500000\n",
       "Neponsit              275.000000\n",
       "NoHo                  261.455882\n",
       "SoHo                  260.106443\n",
       "Theater District      253.525714\n",
       "Arverne               249.070423\n",
       "Riverdale             248.600000\n",
       "Greenwich Village     247.994152\n",
       "Battery Park City     237.166667\n",
       "West Village          234.595804\n",
       "Jamaica Estates       233.227273\n",
       "Breezy Point          228.666667\n",
       "Todt Hill             227.000000\n",
       "Little Italy          221.187050\n",
       "Vinegar Hill          218.480000\n",
       "Murray Hill           217.705882\n",
       "Chelsea               216.907143\n",
       "Belle Harbor          216.750000\n",
       "Spuyten Duyvil        209.666667\n",
       "Name: price, dtype: float64"
      ]
     },
     "execution_count": 16,
     "metadata": {},
     "output_type": "execute_result"
    }
   ],
   "execution_count": 16
  },
  {
   "cell_type": "code",
   "execution_count": null,
   "id": "f96404b4-04de-4365-b11c-ceea9ef92468",
   "metadata": {
    "tags": []
   },
   "outputs": [],
   "source": [
    "# Now, display the top 10 dataframe you created as a table with columns\n",
    "# neighbourhood and price"
   ]
  },
  {
   "cell_type": "markdown",
   "id": "0eecec35-4f94-4faf-9d98-f16211801ffd",
   "metadata": {},
   "source": [
    "####  Exercise 2: Create a bar chart and dataframe of top 10 Neigborhoods that have the LEAST expensive listsings on average. \n",
    "\n",
    "Do the same thing you just did, but get the 10 least expensive neighborhoods.  Sort them from lowest average price to highest.  Bew wure to provide a pivot table."
   ]
  },
  {
   "cell_type": "code",
   "execution_count": null,
   "id": "b1712997-2ab1-4dee-b506-f448b4c0829e",
   "metadata": {
    "tags": []
   },
   "outputs": [],
   "source": [
    "# Here we make the same chart using the bottom 10 Neighborhoods\n",
    "# by average price.  We sort ascending in this one."
   ]
  },
  {
   "cell_type": "code",
   "execution_count": null,
   "id": "92a1d4e4-4bae-411b-aee8-3d41b89c6272",
   "metadata": {
    "tags": []
   },
   "outputs": [],
   "source": [
    "# we also would like to have the corresponding pivot table of the lowest 10"
   ]
  },
  {
   "cell_type": "markdown",
   "id": "87ac7c97-b384-42d2-abdb-a26e98b12179",
   "metadata": {},
   "source": [
    "#  Now make all four widgets (the two charts and the two dataframes) in a Tableau dashboard!"
   ]
  },
  {
   "cell_type": "markdown",
   "id": "3b9ecbbc",
   "metadata": {},
   "source": []
  }
 ],
 "metadata": {
  "kernelspec": {
   "display_name": "Python 3 (ipykernel)",
   "language": "python",
   "name": "python3"
  },
  "language_info": {
   "codemirror_mode": {
    "name": "ipython",
    "version": 3
   },
   "file_extension": ".py",
   "mimetype": "text/x-python",
   "name": "python",
   "nbconvert_exporter": "python",
   "pygments_lexer": "ipython3",
   "version": "3.11.5"
  }
 },
 "nbformat": 4,
 "nbformat_minor": 5
}
